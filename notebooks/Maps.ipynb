{
 "cells": [
  {
   "cell_type": "code",
   "execution_count": null,
   "metadata": {},
   "outputs": [
    {
     "data": {
      "text/plain": [
       "source_city\n",
       "Delhi        61343\n",
       "Mumbai       60896\n",
       "Bangalore    52061\n",
       "Kolkata      46347\n",
       "Hyderabad    40806\n",
       "Chennai      38700\n",
       "Name: count, dtype: int64"
      ]
     },
     "execution_count": 2,
     "metadata": {},
     "output_type": "execute_result"
    }
   ],
   "source": [
    "import pandas as pd\n",
    "\n",
    "#Contar los datos de ciudades para saber los aereopuertos\n",
    "data_main = pd.read_csv('../data/Clean_Dataset.csv')\n",
    "data_main['source_city'].value_counts()"
   ]
  },
  {
   "cell_type": "code",
   "execution_count": null,
   "metadata": {},
   "outputs": [],
   "source": [
    "airports = {\n",
    "    'Delhi': [[28.55683666833814, 77.10145190844422],'Indira Gandhi', '../web/assets/img/airports/international_airport_Indira_Gandhi.jpeg', 'El Aeropuerto Internacional Indira Gandhi, situado a 16 km del centro de la ciudad de Delhi, es uno de los principales accesos nacionales e internacionales de la India.'], \n",
    "    'Mumbai': [[19.09055784461296, 72.8640514743381],'Chhatrapati Shivaji','../web/assets/img/airports/international_airport_Chhatrapati_Shivaji.jpg', 'El Aeropuerto Internacional Chhatrapati Shivaji, anteriormente Aeropuerto Internacional de Sahar, es un aeropuerto de Bombay, en la India.'],\n",
    "    'Bangalore': [[13.199676823889089, 77.70876834609997], 'Kempegowda','../web/assets/img/airports/international_airport_Kempegowda.jpg', 'El Aeropuerto Internacional Kempegowda es un aeropuerto que sirve a Bangalore (Bengaluru), Karnataka, India. Se encuentra aproximadamente 40 kilómetros (25 mi) de la ciudad, cerca del pueblo de Devanahalli.'],\n",
    "    'Kolkata':[[22.653752100434122, 88.4457927992844],'Netaji Subhas Chandra Bose','../web/assets/img/airports/international_airport_Kolkata.jpg','El Aeropuerto Internacional Netaji Subash Chandra Bose es un aeropuerto de la India en las cercanías de la ciudad de Calcuta. Es el cuarto aeropuerto más importante de la India'],\n",
    "    'Hyderabad':[[17.240411708991154, 78.42996547954324],'Rajiv Gandhi', '../web/assets/img/airports/international_airport_Rajiv_Gandhi.jpg','El Aeropuerto Internacional Rajiv Gandhi es un nuevo aeropuerto cerca de Shamshabad, a unos 22 km de la ciudad de Hyderabad, en India.'],\n",
    "    'Chennai': [[12.994792795088543, 80.1724829030673],'Chennai','../web/assets/img/airports/international_airport_Rajiv_Gandhi.jpg','El Aeropuerto Internacional de Chennai se encuentra en Meenambakkam, 7 km al sur de Madrás, India. Es la tercera mayor puerta de entrada internacional del país']\n",
    "} \n"
   ]
  },
  {
   "cell_type": "code",
   "execution_count": null,
   "metadata": {},
   "outputs": [],
   "source": [
    "op"
   ]
  }
 ],
 "metadata": {
  "kernelspec": {
   "display_name": "Python 3",
   "language": "python",
   "name": "python3"
  },
  "language_info": {
   "codemirror_mode": {
    "name": "ipython",
    "version": 3
   },
   "file_extension": ".py",
   "mimetype": "text/x-python",
   "name": "python",
   "nbconvert_exporter": "python",
   "pygments_lexer": "ipython3",
   "version": "3.12.6"
  }
 },
 "nbformat": 4,
 "nbformat_minor": 2
}
